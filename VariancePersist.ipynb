{
 "cells": [
  {
   "cell_type": "markdown",
   "metadata": {},
   "source": [
    "Chemically Driven Persistence Images\n",
    "===================================="
   ]
  },
  {
   "cell_type": "markdown",
   "metadata": {},
   "source": [
    "When we consider representing a chemical molecule as a vectorized persistence image(PI), there is the possiblilty that two chemcial molecules can produce identical PIs. The molecules HBR and F<sub>2</sub> exhibit this quality. To remedy this issue, we compute the variance of the Gaussian kernel with the pairwise electronegativity differences of the atoms in the molecules. In the code blocks below, we will describe and show step by step the different functions located in the PersistentImages_Chemistry repository that produce a PI. We will produce examples without and with factoring in the pairwise electronegativity."
   ]
  },
  {
   "cell_type": "markdown",
   "metadata": {},
   "source": [
    "Produce PI without Electronegativity\n",
    "------------------------------------"
   ]
  },
  {
   "cell_type": "markdown",
   "metadata": {},
   "source": [
    "First we load the necessary classes and functions."
   ]
  },
  {
   "cell_type": "code",
   "execution_count": 15,
   "metadata": {
    "tags": []
   },
   "outputs": [
    {
     "output_type": "stream",
     "name": "stdout",
     "text": "Rips(maxdim=1, thresh=inf, coeff=2, do_cocycles=False, n_perm = None, verbose=True)\n"
    }
   ],
   "source": [
    "from Element_PI import PersImage, Makexyzdistance, VariancePersist\n",
    "from ripser import Rips\n",
    "from ripser import ripser\n",
    "rips = Rips()\n",
    "from sklearn.base import TransformerMixin\n",
    "import numpy as np\n",
    "import collections\n",
    "from itertools import product\n",
    "import collections\n",
    "import pandas as pd\n",
    "from scipy.stats import multivariate_normal as mvn\n",
    "from scipy.stats import norm\n",
    "import scipy.spatial as spatial\n",
    "import matplotlib.pyplot as plt\n",
    "from elements import ELEMENTS\n"
   ]
  },
  {
   "cell_type": "markdown",
   "metadata": {},
   "source": [
    "Now we obtain the data files that contain the x,y, and z coordinates for the compounds we are concerned with. For our purposes, we will be using HBR and F<sub>2</sub>. "
   ]
  },
  {
   "cell_type": "code",
   "execution_count": 3,
   "metadata": {},
   "outputs": [],
   "source": [
    "compound_1 = 'babel/1.xyz'\n",
    "compound_2 = 'babel/2.xyz'"
   ]
  },
  {
   "cell_type": "markdown",
   "metadata": {},
   "source": [
    "At this point, we can produce a PI by using the VariancePersist function as outlined in the PI tutorial. However, we will further outline the functions that the VariancePersist function utilizes. First we will set our hyperparameters descriped in the PI Tutorial. "
   ]
  },
  {
   "cell_type": "code",
   "execution_count": 7,
   "metadata": {},
   "outputs": [],
   "source": [
    "pixelx, pixely = 100,100\n",
    "myspread = .08\n",
    "myspecs={\"maxBD\": 2, \"minBD\":0}\n"
   ]
  },
  {
   "cell_type": "markdown",
   "metadata": {},
   "source": [
    "Now we generate a matrix that stores the distances from each atoms as well as the element names"
   ]
  },
  {
   "cell_type": "code",
   "execution_count": 8,
   "metadata": {},
   "outputs": [],
   "source": [
    "D_1, element_1 = Makexyzdistance(compound_1)\n",
    "D_2, element_2 = Makexyzdistance(compound_2)"
   ]
  },
  {
   "cell_type": "markdown",
   "metadata": {},
   "source": [
    "Now we generate the Persistence Diagrams."
   ]
  },
  {
   "cell_type": "code",
   "execution_count": 12,
   "metadata": {},
   "outputs": [],
   "source": [
    "PD_1 = ripser(D_1,distance_matrix=True)\n",
    "PD_2 = ripser(D_2,distance_matrix=True)"
   ]
  },
  {
   "cell_type": "markdown",
   "metadata": {},
   "source": []
  },
  {
   "cell_type": "code",
   "execution_count": 219,
   "metadata": {},
   "outputs": [],
   "source": [
    "pointsh0_1 = (PD_1['dgms'][0][0:-1,1])\n",
    "pointsh1_1 = (PD_1['dgms'][1])\n",
    "diagram_1 = rips.fit_transform(D_1, distance_matrix=True)\n",
    "\n",
    "pointsh0_2 = (PD_2['dgms'][0][0:-1,1])\n",
    "pointsh1_2 = (PD_2['dgms'][1])\n",
    "diagram_2 = rips.fit_transform(D_2, distance_matrix=True)\n"
   ]
  },
  {
   "cell_type": "code",
   "execution_count": null,
   "metadata": {},
   "outputs": [],
   "source": [
    "'''eleneg_1=list()\n",
    "for index in pointsh0_1:\n",
    "    c = np.where(np.abs((index-PD_1['dperm2all'])) < .00000015)[0]\n",
    "\n",
    "    eleneg_1.append(np.abs(ELEMENTS[element_1[c[0]]].eleneg - ELEMENTS[element_1[c[1]]].eleneg))\n",
    "\n",
    "\n",
    "eleneg_2=list()\n",
    "for index in pointsh0_2:\n",
    "    c = np.where(np.abs((index-PD_2['dperm2all'])) < .00000015)[0]\n",
    "\n",
    "    eleneg_2.append(np.abs(ELEMENTS[element_2[c[0]]].eleneg - ELEMENTS[element_2[c[1]]].eleneg))'''"
   ]
  },
  {
   "cell_type": "code",
   "execution_count": null,
   "metadata": {},
   "outputs": [],
   "source": [
    "h0matrix_1 = np.hstack(((diagram_1[0][0:-1,:], np.reshape(((np.array(eleneg_1)+.4)/10 ), (np.size(eleneg_1),1)))))\n",
    "buffer_1 = np.full((diagram_1[1][:,0].size,1), 0.05)\n",
    "h1matrix_1 = np.hstack((diagram_1[1],buffer_1))\n",
    "\n",
    "h0matrix_2 = np.hstack(((diagram_2[0][0:-1,:], np.reshape(((np.array(eleneg_1)+.4)/10 ), (np.size(eleneg_2),1)))))\n",
    "buffer_2 = np.full((diagram_2[1][:,0].size,1), 0.05)\n",
    "h1matrix_2 = np.hstack((diagram_2[1],buffer_2))"
   ]
  },
  {
   "cell_type": "code",
   "execution_count": null,
   "metadata": {},
   "outputs": [],
   "source": [
    "Totalmatrix_1 = np.vstack((h0matrix_1,h1matrix_1))\n",
    "pim_1 = PersImage(pixels=[pixelx,pixely], spread=myspread, specs=myspecs, verbose=False)\n",
    "imgs_1 = pim.transform(Totalmatrix_1)\n",
    "\n",
    "Totalmatrix_2 = np.vstack((h0matrix_2,h1matrix_2))\n",
    "pim_2 = PersImage(pixels=[pixelx,pixely], spread=myspread, specs=myspecs, verbose=False)\n",
    "imgs_2 = pim.transform(Totalmatrix_2)"
   ]
  },
  {
   "cell_type": "code",
   "execution_count": null,
   "metadata": {},
   "outputs": [],
   "source": [
    "pim.show(imgs_1)\n",
    "plt.show()\n",
    "\n",
    "pim.show(imgs_2)\n",
    "plt.show()"
   ]
  },
  {
   "cell_type": "markdown",
   "metadata": {},
   "source": [
    "Produce PI with Electronegativity\n",
    "---------------------------------"
   ]
  },
  {
   "cell_type": "markdown",
   "metadata": {},
   "source": [
    "You will find that many of the steps are very similar to the example above. First, we load the necessary classes and packages."
   ]
  },
  {
   "cell_type": "code",
   "execution_count": 16,
   "metadata": {
    "tags": []
   },
   "outputs": [
    {
     "output_type": "stream",
     "name": "stdout",
     "text": "Rips(maxdim=1, thresh=inf, coeff=2, do_cocycles=False, n_perm = None, verbose=True)\n"
    }
   ],
   "source": [
    "from Element_PI import PersImage, Makexyzdistance, VariancePersist\n",
    "from ripser import Rips\n",
    "from ripser import ripser\n",
    "rips = Rips()\n",
    "from sklearn.base import TransformerMixin\n",
    "import numpy as np\n",
    "import collections\n",
    "from itertools import product\n",
    "import collections\n",
    "import pandas as pd\n",
    "from scipy.stats import multivariate_normal as mvn\n",
    "from scipy.stats import norm\n",
    "import scipy.spatial as spatial\n",
    "import matplotlib.pyplot as plt\n",
    "from elements import ELEMENTS"
   ]
  },
  {
   "cell_type": "markdown",
   "metadata": {},
   "source": [
    "Next, we load the x, y, and z coordinates. "
   ]
  },
  {
   "cell_type": "code",
   "execution_count": 209,
   "metadata": {},
   "outputs": [],
   "source": [
    "compound_1 = 'babel/1.xyz'\n",
    "compound_2 = 'babel/75.xyz'"
   ]
  },
  {
   "cell_type": "markdown",
   "metadata": {},
   "source": [
    "We set hyperparameters."
   ]
  },
  {
   "cell_type": "code",
   "execution_count": 210,
   "metadata": {},
   "outputs": [],
   "source": [
    "pixelx, pixely = 25,25\n",
    "myspread = .08\n",
    "myspecs={\"maxBD\": 2, \"minBD\":0}"
   ]
  },
  {
   "cell_type": "markdown",
   "metadata": {},
   "source": [
    "Now we generate the distance matrices."
   ]
  },
  {
   "cell_type": "code",
   "execution_count": 211,
   "metadata": {},
   "outputs": [],
   "source": [
    "D_1, element_1 = Makexyzdistance(compound_1)\n",
    "D_2, element_2 = Makexyzdistance(compound_2)"
   ]
  },
  {
   "cell_type": "markdown",
   "metadata": {},
   "source": [
    "We generate the data for the PDs."
   ]
  },
  {
   "cell_type": "code",
   "execution_count": 212,
   "metadata": {},
   "outputs": [],
   "source": [
    "PD_1 = ripser(D_1,distance_matrix=True)\n",
    "PD_2 = ripser(D_2,distance_matrix=True)"
   ]
  },
  {
   "cell_type": "markdown",
   "metadata": {},
   "source": [
    "This is where the algorithm diverts. We will now isolate the birth, death points for the connected components (h0) and holes (h1)."
   ]
  },
  {
   "cell_type": "code",
   "execution_count": 213,
   "metadata": {},
   "outputs": [],
   "source": [
    "pointsh0_1 = (PD_1['dgms'][0][0:-1,1])\n",
    "pointsh1_1 = (PD_1['dgms'][1])\n",
    "diagram_1 = rips.fit_transform(D_1, distance_matrix=True)\n",
    "\n",
    "pointsh0_2 = (PD_2['dgms'][0][0:-1,1])\n",
    "pointsh1_2 = (PD_2['dgms'][1])\n",
    "diagram_2 = rips.fit_transform(D_2, distance_matrix=True)"
   ]
  },
  {
   "cell_type": "code",
   "execution_count": 215,
   "metadata": {},
   "outputs": [],
   "source": [
    "eleneg_1=list()\n",
    "for index in pointsh0_1:\n",
    "    c = np.where(np.abs((index-PD_1['dperm2all'])) < .00000015)[0]\n",
    "\n",
    "    eleneg_1.append(np.abs(ELEMENTS[element_1[c[0]]].eleneg - ELEMENTS[element_1[c[1]]].eleneg))\n",
    "\n",
    "\n",
    "eleneg_2=list()\n",
    "for index in pointsh0_2:\n",
    "    c = np.where(np.abs((index-PD_2['dperm2all'])) < .00000015)[0]\n",
    "\n",
    "    eleneg_2.append(np.abs(ELEMENTS[element_2[c[0]]].eleneg - ELEMENTS[element_2[c[1]]].eleneg))"
   ]
  },
  {
   "cell_type": "code",
   "execution_count": 216,
   "metadata": {},
   "outputs": [],
   "source": [
    "h0matrix_1 = np.hstack(((diagram_1[0][0:-1,:], np.reshape(((np.array(eleneg_1)+.4)/10 ), (np.size(eleneg_1),1)))))\n",
    "buffer_1 = np.full((diagram_1[1][:,0].size,1), 0.05)\n",
    "h1matrix_1 = np.hstack((diagram_1[1],buffer_1))\n",
    "\n",
    "h0matrix_2 = np.hstack(((diagram_2[0][0:-1,:], np.reshape(((np.array(eleneg_1)+.4)/10 ), (np.size(eleneg_2),1)))))\n",
    "buffer_2 = np.full((diagram_2[1][:,0].size,1), 0.05)\n",
    "h1matrix_2 = np.hstack((diagram_2[1],buffer_2))"
   ]
  },
  {
   "cell_type": "code",
   "execution_count": 217,
   "metadata": {},
   "outputs": [],
   "source": [
    "Totalmatrix_1 = np.vstack((h0matrix_1,h1matrix_1))\n",
    "pim_1 = PersImage(pixels=[pixelx,pixely], spread=myspread, specs=myspecs, verbose=False)\n",
    "imgs_1 = pim.transform(Totalmatrix_1)\n",
    "\n",
    "Totalmatrix_2 = np.vstack((h0matrix_2,h1matrix_2))\n",
    "pim_2 = PersImage(pixels=[pixelx,pixely], spread=myspread, specs=myspecs, verbose=False)\n",
    "imgs_2 = pim.transform(Totalmatrix_2)"
   ]
  },
  {
   "cell_type": "code",
   "execution_count": 218,
   "metadata": {},
   "outputs": [
    {
     "output_type": "display_data",
     "data": {
      "text/plain": "<Figure size 432x288 with 1 Axes>",
      "image/svg+xml": "<?xml version=\"1.0\" encoding=\"utf-8\" standalone=\"no\"?>\n<!DOCTYPE svg PUBLIC \"-//W3C//DTD SVG 1.1//EN\"\n  \"http://www.w3.org/Graphics/SVG/1.1/DTD/svg11.dtd\">\n<!-- Created with matplotlib (https://matplotlib.org/) -->\n<svg height=\"231.84pt\" version=\"1.1\" viewBox=\"0 0 231.84 231.84\" width=\"231.84pt\" xmlns=\"http://www.w3.org/2000/svg\" xmlns:xlink=\"http://www.w3.org/1999/xlink\">\n <defs>\n  <style type=\"text/css\">\n*{stroke-linecap:butt;stroke-linejoin:round;}\n  </style>\n </defs>\n <g id=\"figure_1\">\n  <g id=\"patch_1\">\n   <path d=\"M 0 231.84 \nL 231.84 231.84 \nL 231.84 0 \nL 0 0 \nz\n\" style=\"fill:none;\"/>\n  </g>\n  <g id=\"axes_1\">\n   <g clip-path=\"url(#p9201e9fb57)\">\n    <image height=\"218\" id=\"imageec27940f7d\" transform=\"scale(1 -1)translate(0 -218)\" width=\"218\" x=\"7.2\" xlink:href=\"data:image/png;base64,\niVBORw0KGgoAAAANSUhEUgAAANoAAADaCAYAAADAHVzbAAAABHNCSVQICAgIfAhkiAAAAt9JREFUeJzt3LFNw1AUQNEYWaQJYgKK7MIOTMACZId0bMEKWYAdqJFYgJYiUhjhS0i5Scg59Ste4atXWPa0Wm4PC+Cobk69AFwDoUFAaBAQGgSEBgGhQUBoEBAaBIQGAaFBQGgQEBoEhAYBoUFAaBAQGgSEBgGhQUBoEBAaBIQGAaFBQGgQEBoEhAYBoUFAaBAQGgSEBgGhQUBoEBAaBIQGAaFBQGgQEBoEhAYBoUFAaBAQGgSEBgGhQUBoEBAaBIQGAaFBQGgQEBoEhAYBoUFAaBAQGgSEBgGhQUBoEBAaBIQGAaFBQGgQEBoEhAYBoUFAaBAQGgSEBgGhQUBoEBAaBIQGAaFBQGgQEBoEhAYBoUFAaBAQGgSEBgGhQUBoEBAaBIQGAaFBQGgQEBoEhAYBoUFAaBAQGgSEBgGhQUBoEBAaBIQGAaFBQGgQmE+9AJdjs18PZ17nz2CTy+OiQUBoEBAaBIQGAaFBQGgQEBoEhAaB6Wl6O4yGdrdfxS6cuXkxDWf2i+HjdJVcNAgIDQJCg4DQICA0CAgNAkKDwPzy+DEc2r3fBatw7rwj+zsXDQJCg4DQICA0CAgNAkKDgNAgIDQITKvl1ltIODIXDQJCg4DQICA0CAgNAkKDgNAgIDQICA0CQoOA0CAgNAgIDQJCg4DQICA0CAgNAtP3z3r4hfXD/XOxC/xbLhoEhAYBoUFAaBAQGgSEBgGhQcCfiiHgokFAaBAQGgSEBgGhQUBoEBAaBIQGAaFBQGgQEBoEhAYBoUFAaBAQGgSEBgGhQUBoEBAaBIQGAaFBQGgQEBoEhAYBoUFAaBAQGgSEBgGhQUBoEBAaBIQGAaFBQGgQEBoEhAYBoUFAaBAQGgSEBgGhQUBoEBAaBIQGAaFBQGgQEBoEhAYBoUFAaBAQGgSEBgGhQUBoEBAaBIQGAaFBQGgQEBoEhAYBoUFAaBAQGgSEBgGhQUBoEBAaBIQGAaFB4BfQXhe21e9PlgAAAABJRU5ErkJggg==\" y=\"-6.64\"/>\n   </g>\n  </g>\n </g>\n <defs>\n  <clipPath id=\"p9201e9fb57\">\n   <rect height=\"217.44\" width=\"217.44\" x=\"7.2\" y=\"7.2\"/>\n  </clipPath>\n </defs>\n</svg>\n",
      "image/png": "[encoded data removed]"
     },
     "metadata": {
      "needs_background": "light"
     }
    },
    {
     "output_type": "display_data",
     "data": {
      "text/plain": "<Figure size 432x288 with 1 Axes>",
      "image/svg+xml": "<?xml version=\"1.0\" encoding=\"utf-8\" standalone=\"no\"?>\n<!DOCTYPE svg PUBLIC \"-//W3C//DTD SVG 1.1//EN\"\n  \"http://www.w3.org/Graphics/SVG/1.1/DTD/svg11.dtd\">\n<!-- Created with matplotlib (https://matplotlib.org/) -->\n<svg height=\"231.84pt\" version=\"1.1\" viewBox=\"0 0 231.84 231.84\" width=\"231.84pt\" xmlns=\"http://www.w3.org/2000/svg\" xmlns:xlink=\"http://www.w3.org/1999/xlink\">\n <defs>\n  <style type=\"text/css\">\n*{stroke-linecap:butt;stroke-linejoin:round;}\n  </style>\n </defs>\n <g id=\"figure_1\">\n  <g id=\"patch_1\">\n   <path d=\"M 0 231.84 \nL 231.84 231.84 \nL 231.84 0 \nL 0 0 \nz\n\" style=\"fill:none;\"/>\n  </g>\n  <g id=\"axes_1\">\n   <g clip-path=\"url(#p8ae4e0776d)\">\n    <image height=\"218\" id=\"image67b7eee430\" transform=\"scale(1 -1)translate(0 -218)\" width=\"218\" x=\"7.2\" xlink:href=\"data:image/png;base64,\niVBORw0KGgoAAAANSUhEUgAAANoAAADaCAYAAADAHVzbAAAABHNCSVQICAgIfAhkiAAAAutJREFUeJzt3LFJBFEUQNEdGdxkwQoUBEOtw8A6DGxksQNzCzARGzEyNjA1FRHWDtwNnLsynpPOD15y5wUf/rBarjcLYFIH+x4A/gOhQUBoEBAaBIQGAaFBQGgQEBoEhAYBoUFAaBAQGgSEBgGhQUBoEBAaBIQGAaFBQGgQEBoEhAYBoUFAaBAQGgSEBgGhQUBoEBAaBIQGAaFBQGgQEBoEhAYBoUFAaBAQGgSEBgGhQUBoEBAaBIQGAaFBQGgQEBoEhAYBoUFAaBAQGgSEBgGhQUBoEBAaBIQGAaFBQGgQEBoEhAYBoUFAaBAQGgSEBgGhQUBoEBAaBIQGAaFBQGgQEBoEhAYBoUFAaBAQGgSEBgGhQUBoEBAaBIQGAaFBQGgQEBoEhAYBoUFAaBAQGgSEBgGhQWDc9wD8HVefJz9+3+Wv/Hj4+jvDzIyNBgGhQUBoEBAaBIQGAaFBQGgQEBoExnExbD30tdgEo7BvTy6bJ2OjQUBoEBAaBIQGAaFBQGgQEBoEhAaB8eXmeeuhs7uLYBSYLxsNAkKDgNAgIDQICA0CQoOA0CAwPtxf7nDsbfJBYM5sNAgIDQJCg4DQICA0CAgNAkKDgNAgMKyWa88Qw8RsNAgIDQJCg4DQICA0CAgNAkKDgNAgMLx/nG69sD4+ui5mgdmy0SAgNAgIDQJCg4DQICA0CAgNAkKDwDjcnu97Bpg9Gw0CQoOA0CAgNAgIDQJCg4DQIOClYgjYaBAQGgSEBgGhQUBoEBAaBIQGAaFBQGgQEBoEhAYBoUFAaBAQGgSEBgGhQUBoEBAaBIQGAaFBQGgQEBoEhAYBoUFAaBAQGgSEBgGhQUBoEBAaBIQGAaFBQGgQEBoEhAYBoUFAaBAQGgSEBgGhQUBoEBAaBIQGAaFBQGgQEBoEhAYBoUFAaBAQGgSEBgGhQUBoEBAaBIQGAaFBQGgQEBoEhAYBoUFAaBAQGgSEBgGhQUBoEBAaBIQGAaFBQGgQ+AbMNxblzyFqNgAAAABJRU5ErkJggg==\" y=\"-6.64\"/>\n   </g>\n  </g>\n </g>\n <defs>\n  <clipPath id=\"p8ae4e0776d\">\n   <rect height=\"217.44\" width=\"217.44\" x=\"7.2\" y=\"7.2\"/>\n  </clipPath>\n </defs>\n</svg>\n",
      "image/png": "[encoded data removed]"
     },
     "metadata": {
      "needs_background": "light"
     }
    }
   ],
   "source": [
    "pim.show(imgs_1)\n",
    "plt.show()\n",
    "\n",
    "pim.show(imgs_2)\n",
    "plt.show()"
   ]
  },
  {
   "cell_type": "code",
   "execution_count": null,
   "metadata": {},
   "outputs": [],
   "source": []
  }
 ],
 "metadata": {
  "language_info": {
   "codemirror_mode": {
    "name": "ipython",
    "version": 3
   },
   "file_extension": ".py",
   "mimetype": "text/x-python",
   "name": "python",
   "nbconvert_exporter": "python",
   "pygments_lexer": "ipython3",
   "version": 3
  },
  "orig_nbformat": 2,
  "kernelspec": {
   "name": "python_defaultSpec_1595374339595",
   "display_name": "Python 3.8.2 64-bit"
  }
 },
 "nbformat": 4,
 "nbformat_minor": 2
}